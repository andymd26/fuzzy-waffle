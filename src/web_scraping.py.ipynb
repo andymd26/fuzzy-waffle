{
 "cells": [
  {
   "cell_type": "code",
   "execution_count": 57,
   "metadata": {
    "collapsed": false
   },
   "outputs": [],
   "source": [
    "import pandas as pd\n",
    "from bs4 import BeautifulSoup\n",
    "import requests\n",
    "import functools\n",
    "import os"
   ]
  },
  {
   "cell_type": "code",
   "execution_count": 58,
   "metadata": {
    "collapsed": false
   },
   "outputs": [],
   "source": [
    "year_var = range(2001, 2016)"
   ]
  },
  {
   "cell_type": "code",
   "execution_count": 59,
   "metadata": {
    "collapsed": false
   },
   "outputs": [],
   "source": [
    "for i in year_var:\n",
    "    url = \"http://energyalmanac.ca.gov/electricity/web_qfer/Heat_Rates.php?goSort=annual.expr1&year={0}\".format(i) \n",
    "    # url is only slightly different between the years of the dataset (i.e., year = i)\n",
    "    r = requests.get(url)\n",
    "    data = r.text\n",
    "    soup = BeautifulSoup(data, \"lxml\")\n",
    "\n",
    "    table = soup.find_all('table')[0]\n",
    "    # first and only table on the page\n",
    "    rows = table.find_all('tr')[1:]\n",
    "\n",
    "    data = {\n",
    "        'category' : [],\n",
    "        'year' : [],\n",
    "        'company.name' : [],\n",
    "        'plant.id' : [],\n",
    "        'plant.name' : [],\n",
    "        'net.mwh' : [],\n",
    "        'main.mmbtu' : [],\n",
    "        'heat.rate' : []\n",
    "    }\n",
    "    # Create a data dictionary (begin each with an empty list)\n",
    "\n",
    "    for row in rows:\n",
    "        cols = row.find_all('td')\n",
    "        data['category'].append(cols[0].get_text())\n",
    "        data['year'].append(cols[1].get_text())\n",
    "        data['company.name'].append(cols[2].get_text())\n",
    "        data['plant.id'].append(cols[3].get_text())\n",
    "        data['plant.name'].append(cols[4].get_text())\n",
    "        data['net.mwh'].append(cols[5].get_text())\n",
    "        data['main.mmbtu'].append(cols[6].get_text())\n",
    "        data['heat.rate'].append(cols[7].get_text())\n",
    "        # The for loop populates each of the column spaces with the associated text from each row of the table\n",
    "\n",
    "    elecData = pd.DataFrame(data)\n",
    "    data_dir = \"C:/Users/bloh356/Documents/GitHub/fuzzy-waffle/data\"\n",
    "    elecData.to_csv(os.path.join(data_dir,\"file_{}.csv\").format(i), index=0)\n"
   ]
  }
 ],
 "metadata": {
  "anaconda-cloud": {},
  "kernelspec": {
   "display_name": "Python [Root]",
   "language": "python",
   "name": "Python [Root]"
  },
  "language_info": {
   "codemirror_mode": {
    "name": "ipython",
    "version": 3
   },
   "file_extension": ".py",
   "mimetype": "text/x-python",
   "name": "python",
   "nbconvert_exporter": "python",
   "pygments_lexer": "ipython3",
   "version": "3.5.2"
  }
 },
 "nbformat": 4,
 "nbformat_minor": 0
}
